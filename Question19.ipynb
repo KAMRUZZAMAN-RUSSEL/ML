{
  "nbformat": 4,
  "nbformat_minor": 0,
  "metadata": {
    "colab": {
      "provenance": [],
      "authorship_tag": "ABX9TyOXUzlDnG85y5sMdmLG10LS",
      "include_colab_link": true
    },
    "kernelspec": {
      "name": "python3",
      "display_name": "Python 3"
    },
    "language_info": {
      "name": "python"
    }
  },
  "cells": [
    {
      "cell_type": "markdown",
      "metadata": {
        "id": "view-in-github",
        "colab_type": "text"
      },
      "source": [
        "<a href=\"https://colab.research.google.com/github/KAMRUZZAMAN-RUSSEL/ML/blob/main/Question19.ipynb\" target=\"_parent\"><img src=\"https://colab.research.google.com/assets/colab-badge.svg\" alt=\"Open In Colab\"/></a>"
      ]
    },
    {
      "cell_type": "code",
      "source": [
        "import numpy as np\n",
        "from scipy.stats import norm\n",
        "\n",
        "def viterbi(observations, states, start_prob, trans_prob, emit_prob_params):\n",
        "    \"\"\"\n",
        "    Viterbi algorithm for finding the most likely sequence of hidden states.\n",
        "\n",
        "    Args:\n",
        "        observations (list): List of observed values.\n",
        "        states (list): List of possible hidden states.\n",
        "        start_prob (dict): Dictionary of initial probabilities for each state.\n",
        "        trans_prob (dict): Dictionary of transition probabilities between states.\n",
        "                           trans_prob[from_state][to_state] = probability.\n",
        "        emit_prob_params (dict): Dictionary of emission distribution parameters for each state.\n",
        "                                 emit_prob_params[state] = {'mean': ..., 'std': ...}.\n",
        "\n",
        "    Returns:\n",
        "        tuple: (most_likely_sequence, probability_of_sequence)\n",
        "    \"\"\"\n",
        "    T = len(observations)\n",
        "    N = len(states)\n",
        "\n",
        "    # Initialize Viterbi path probabilities and backpointers\n",
        "    V = np.zeros((N, T))\n",
        "    path = np.zeros((N, T), dtype=int)\n",
        "\n",
        "    # Initialization step (t=0)\n",
        "    for i, state in enumerate(states):\n",
        "        V[i, 0] = start_prob[state] * norm.pdf(observations[0], emit_prob_params[state]['mean'], emit_prob_params[state]['std'])\n",
        "        path[i, 0] = 0\n",
        "\n",
        "    # Recursion step (t > 0)\n",
        "    for t in range(1, T):\n",
        "        for i, current_state in enumerate(states):\n",
        "            max_prob = 0\n",
        "            best_prev_state_index = 0\n",
        "            for j, prev_state in enumerate(states):\n",
        "                prob = V[j, t - 1] * trans_prob[prev_state][current_state] * norm.pdf(observations[t], emit_prob_params[current_state]['mean'], emit_prob_params[current_state]['std'])\n",
        "                if prob > max_prob:\n",
        "                    max_prob = prob\n",
        "                    best_prev_state_index = j\n",
        "            V[i, t] = max_prob\n",
        "            path[i, t] = best_prev_state_index\n",
        "\n",
        "    # Termination step\n",
        "    max_final_prob = np.max(V[:, T - 1])\n",
        "    best_final_state_index = np.argmax(V[:, T - 1])\n",
        "\n",
        "    # Backtrack to find the most likely sequence\n",
        "    most_likely_sequence = [states[best_final_state_index]]\n",
        "    for t in range(T - 2, -1, -1):\n",
        "        best_final_state_index = path[best_final_state_index, t + 1]\n",
        "        most_likely_sequence.insert(0, states[best_final_state_index])\n",
        "\n",
        "    return most_likely_sequence, max_final_prob\n",
        "\n",
        "if __name__ == '__main__':\n",
        "    # Define the Hidden Markov Model\n",
        "    states = [\"Low\", \"Medium\", \"High\"]\n",
        "    observations = [710, 650, 680]\n",
        "\n",
        "    # Initial probabilities (assuming uniform)\n",
        "    start_probability = {\"Low\": 1/3, \"Medium\": 1/3, \"High\": 1/3}\n",
        "\n",
        "    # Transition probabilities\n",
        "    transition_probability = {\n",
        "        \"Low\": {\"Low\": 0.7, \"Medium\": 0.3, \"High\": 0.0},\n",
        "        \"Medium\": {\"Low\": 0.0, \"Medium\": 0.6, \"High\": 0.4},\n",
        "        \"High\": {\"Low\": 0.0, \"Medium\": 0.2, \"High\": 0.8},\n",
        "    }\n",
        "\n",
        "    # Emission probabilities (defined by mean and standard deviation for a normal distribution)\n",
        "    # These are assumed based on the context of credit scores.\n",
        "    emission_probability_params = {\n",
        "        \"Low\": {\"mean\": 700, \"std\": 50},\n",
        "        \"Medium\": {\"mean\": 660, \"std\": 50},\n",
        "        \"High\": {\"mean\": 620, \"std\": 50},\n",
        "    }\n",
        "\n",
        "    # Run the Viterbi algorithm\n",
        "    most_likely_path, probability = viterbi(\n",
        "        observations,\n",
        "        states,\n",
        "        start_probability,\n",
        "        transition_probability,\n",
        "        emission_probability_params\n",
        "    )\n",
        "\n",
        "    print(\"Observations:\", observations)\n",
        "    print(\"Most likely sequence of hidden states:\", most_likely_path)\n",
        "    print(\"Probability of the most likely sequence:\", probability)"
      ],
      "metadata": {
        "colab": {
          "base_uri": "https://localhost:8080/"
        },
        "id": "q_cKfPN9wPae",
        "outputId": "0c4fb339-4018-40a7-ee08-62f1f11cdd8e"
      },
      "execution_count": 1,
      "outputs": [
        {
          "output_type": "stream",
          "name": "stdout",
          "text": [
            "Observations: [710, 650, 680]\n",
            "Most likely sequence of hidden states: ['Low', 'Low', 'Low']\n",
            "Probability of the most likely sequence: 4.553216705900889e-08\n"
          ]
        }
      ]
    }
  ]
}