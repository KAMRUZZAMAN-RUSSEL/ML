{
  "nbformat": 4,
  "nbformat_minor": 0,
  "metadata": {
    "colab": {
      "provenance": [],
      "authorship_tag": "ABX9TyPEbSdM26jNXQfJ84aIBXHK",
      "include_colab_link": true
    },
    "kernelspec": {
      "name": "python3",
      "display_name": "Python 3"
    },
    "language_info": {
      "name": "python"
    }
  },
  "cells": [
    {
      "cell_type": "markdown",
      "metadata": {
        "id": "view-in-github",
        "colab_type": "text"
      },
      "source": [
        "<a href=\"https://colab.research.google.com/github/KAMRUZZAMAN-RUSSEL/ML/blob/main/Question19.ipynb\" target=\"_parent\"><img src=\"https://colab.research.google.com/assets/colab-badge.svg\" alt=\"Open In Colab\"/></a>"
      ]
    },
    {
      "cell_type": "code",
      "execution_count": 1,
      "metadata": {
        "colab": {
          "base_uri": "https://localhost:8080/"
        },
        "id": "YiIWhomMdwq3",
        "outputId": "36ef15a3-6003-4117-ff00-fbd17caea9f2"
      },
      "outputs": [
        {
          "output_type": "stream",
          "name": "stdout",
          "text": [
            "Most likely sequence of states: ['High', 'Medium', 'High']\n",
            "Probability of the sequence: 0.010240000000000003\n"
          ]
        }
      ],
      "source": [
        "import numpy as np\n",
        "\n",
        "# States and observations\n",
        "states = ['Low', 'Medium', 'High']\n",
        "observations = [710, 650, 680]\n",
        "\n",
        "# Transition probabilities\n",
        "trans_probs = {\n",
        "    'Low': {'Low': 0.7, 'Medium': 0.3},\n",
        "    'Medium': {'Medium': 0.6, 'High': 0.4},\n",
        "    'High': {'High': 0.8, 'Medium': 0.2}\n",
        "}\n",
        "\n",
        "# Emission probabilities for each observation from each state\n",
        "emission_probs = {\n",
        "    710: {'Low': 0.1, 'Medium': 0.2, 'High': 0.8},\n",
        "    650: {'Low': 0.3, 'Medium': 0.8, 'High': 0.1},\n",
        "    680: {'Low': 0.3, 'Medium': 0.4, 'High': 0.6}\n",
        "}\n",
        "\n",
        "# Initial probabilities (uniform)\n",
        "init_probs = {state: 1/3 for state in states}\n",
        "\n",
        "# Viterbi algorithm\n",
        "V = [{}]  # Viterbi matrix\n",
        "path = {}  # backpointers\n",
        "\n",
        "# Initialization step\n",
        "for state in states:\n",
        "    V[0][state] = init_probs[state] * emission_probs[observations[0]][state]\n",
        "    path[state] = [state]\n",
        "\n",
        "# Recursion\n",
        "for t in range(1, len(observations)):\n",
        "    V.append({})\n",
        "    new_path = {}\n",
        "\n",
        "    for curr_state in states:\n",
        "        max_prob, prev_st = max(\n",
        "            ((V[t - 1][prev_state] *\n",
        "              trans_probs.get(prev_state, {}).get(curr_state, 0) *\n",
        "              emission_probs[observations[t]][curr_state], prev_state)\n",
        "             for prev_state in states),\n",
        "            key=lambda x: x[0]\n",
        "        )\n",
        "        V[t][curr_state] = max_prob\n",
        "        new_path[curr_state] = path[prev_st] + [curr_state]\n",
        "\n",
        "    path = new_path\n",
        "\n",
        "# Termination\n",
        "final_state = max(V[-1], key=lambda state: V[-1][state])\n",
        "best_path = path[final_state]\n",
        "best_prob = V[-1][final_state]\n",
        "\n",
        "# Output\n",
        "print(\"Most likely sequence of states:\", best_path)\n",
        "print(\"Probability of the sequence:\", best_prob)\n"
      ]
    }
  ]
}