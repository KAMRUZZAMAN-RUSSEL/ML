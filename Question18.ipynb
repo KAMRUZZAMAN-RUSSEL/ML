{
  "nbformat": 4,
  "nbformat_minor": 0,
  "metadata": {
    "colab": {
      "provenance": [],
      "authorship_tag": "ABX9TyPk9F6xNW37Wb269Q2uK9o1",
      "include_colab_link": true
    },
    "kernelspec": {
      "name": "python3",
      "display_name": "Python 3"
    },
    "language_info": {
      "name": "python"
    }
  },
  "cells": [
    {
      "cell_type": "markdown",
      "metadata": {
        "id": "view-in-github",
        "colab_type": "text"
      },
      "source": [
        "<a href=\"https://colab.research.google.com/github/KAMRUZZAMAN-RUSSEL/ML/blob/main/Question18.ipynb\" target=\"_parent\"><img src=\"https://colab.research.google.com/assets/colab-badge.svg\" alt=\"Open In Colab\"/></a>"
      ]
    },
    {
      "cell_type": "code",
      "execution_count": 2,
      "metadata": {
        "colab": {
          "base_uri": "https://localhost:8080/"
        },
        "id": "chGeZPn9r-SK",
        "outputId": "7707d495-294a-4fbd-b423-3e1350d09a73"
      },
      "outputs": [
        {
          "output_type": "stream",
          "name": "stdout",
          "text": [
            "Distances and Labels of Nearest Neighbors (k=3):\n",
            "Distance: 0.218, Class: 1\n",
            "Distance: 0.334, Class: 0\n",
            "Distance: 0.372, Class: 1\n",
            "\n",
            "Vote Count: Counter({1: 2, 0: 1})\n",
            "Predicted Class for T1: 1\n"
          ]
        }
      ],
      "source": [
        "import numpy as np\n",
        "import pandas as pd\n",
        "from sklearn.preprocessing import MinMaxScaler\n",
        "from collections import Counter\n",
        "\n",
        "# Training data: Age, CreditScore, RiskClass (0 = High Risk, 1 = Low Risk)\n",
        "train_data = {\n",
        "    'Age': [25, 30, 35, 40, 45, 50],\n",
        "    'CreditScore': [610, 640, 620, 680, 700, 720],\n",
        "    'RiskClass': [1, 1, 1, 0, 0, 0]\n",
        "}\n",
        "df_train = pd.DataFrame(train_data)\n",
        "\n",
        "# Test sample T1\n",
        "T1 = pd.DataFrame({'Age': [33], 'CreditScore': [660]})\n",
        "\n",
        "# Normalize data using Min-Max\n",
        "scaler = MinMaxScaler()\n",
        "X_train = scaler.fit_transform(df_train[['Age', 'CreditScore']])\n",
        "X_test = scaler.transform(T1)\n",
        "\n",
        "# Compute Euclidean distances\n",
        "distances = np.linalg.norm(X_train - X_test, axis=1)\n",
        "\n",
        "# Combine distances and class labels\n",
        "distance_class_pairs = list(zip(distances, df_train['RiskClass']))\n",
        "\n",
        "# Sort by distance and select k=3 nearest neighbors\n",
        "k = 3\n",
        "k_nearest = sorted(distance_class_pairs, key=lambda x: x[0])[:k]\n",
        "\n",
        "# Count the votes\n",
        "votes = [label for _, label in k_nearest]\n",
        "vote_counts = Counter(votes)\n",
        "\n",
        "# Predict class (most common)\n",
        "predicted_class = vote_counts.most_common(1)[0][0]\n",
        "\n",
        "# Output\n",
        "print(\"Distances and Labels of Nearest Neighbors (k=3):\")\n",
        "for d, c in k_nearest:\n",
        "    print(f\"Distance: {d:.3f}, Class: {c}\")\n",
        "\n",
        "print(\"\\nVote Count:\", vote_counts)\n",
        "print(\"Predicted Class for T1:\", predicted_class)\n"
      ]
    }
  ]
}