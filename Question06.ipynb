{
  "nbformat": 4,
  "nbformat_minor": 0,
  "metadata": {
    "colab": {
      "provenance": [],
      "authorship_tag": "ABX9TyN4dzSvsrAAYkAHhl0fYyB2",
      "include_colab_link": true
    },
    "kernelspec": {
      "name": "python3",
      "display_name": "Python 3"
    },
    "language_info": {
      "name": "python"
    }
  },
  "cells": [
    {
      "cell_type": "markdown",
      "metadata": {
        "id": "view-in-github",
        "colab_type": "text"
      },
      "source": [
        "<a href=\"https://colab.research.google.com/github/KAMRUZZAMAN-RUSSEL/ML/blob/main/Question06.ipynb\" target=\"_parent\"><img src=\"https://colab.research.google.com/assets/colab-badge.svg\" alt=\"Open In Colab\"/></a>"
      ]
    },
    {
      "cell_type": "code",
      "execution_count": 6,
      "metadata": {
        "colab": {
          "base_uri": "https://localhost:8080/"
        },
        "id": "OgZ6WuYy3jpW",
        "outputId": "5dc14788-d650-43e6-d970-0ec69ede2a60"
      },
      "outputs": [
        {
          "output_type": "stream",
          "name": "stdout",
          "text": [
            "Cretid score:  685.0\n",
            "Age:  36.875\n",
            "Education:  14.57125\n",
            "Estimated coefficients (β):\n",
            "[ 2.80738292 39.53287538]\n",
            "Age: 35.0, Education: 16.0 -> Predicted Credit Score: 736.28\n",
            "Age: 28.0, Education: 14.0 -> Predicted Credit Score: 637.61\n",
            "Age: 45.0, Education: 14.57 -> Predicted Credit Score: 707.76\n",
            "Age: 31.0, Education: 12.0 -> Predicted Credit Score: 566.95\n",
            "Age: 52.0, Education: 18.0 -> Predicted Credit Score: 862.95\n",
            "Age: 29.0, Education: 14.0 -> Predicted Credit Score: 640.41\n",
            "Age: 42.0, Education: 16.0 -> Predicted Credit Score: 755.88\n",
            "Age: 33.0, Education: 12.0 -> Predicted Credit Score: 572.55\n",
            "Mean Squared Error (MSE): 2117.33\n",
            "R² Score: 0.4077\n"
          ]
        }
      ],
      "source": [
        "import numpy as np\n",
        "\n",
        "# Define the dependent variable (Credit Score)\n",
        "y = np.array([720, 650, 750, 600, 780, 630, 710, 640])\n",
        "\n",
        "# Mean value of  (Credit Score)\n",
        "result  = (720+650+750+600+780+630+710+640)/8\n",
        "print(f\"Cretid score: \",result)\n",
        "\n",
        "# Mean value of  (Age)\n",
        "result  = (35+28+45+31+52+29+42+33)/8\n",
        "print(f\"Age: \",result )\n",
        "\n",
        "# Mean value of  (education)\n",
        "result  = (16+14+14.57+12+18+14+16+12)/8\n",
        "print(f\"Education: \",result)\n",
        "\n",
        "# Define independent variables (Age and Education)\n",
        "X = np.array([\n",
        "    [35, 16],\n",
        "    [28, 14],\n",
        "    [45, 14.57],\n",
        "    [31, 12],\n",
        "    [52, 18],\n",
        "    [29, 14],\n",
        "    [42, 16],\n",
        "    [33, 12]\n",
        "])\n",
        "\n",
        "\n",
        "\n",
        "# Compute beta using the normal equation\n",
        "beta = np.linalg.inv(X.T @ X) @ X.T @ y\n",
        "\n",
        "# Display the estimated coefficients\n",
        "print(\"Estimated coefficients (β):\")\n",
        "print(beta)\n",
        "\n",
        "# Given regression equation: Y_hat = 5.76 + (2.801 * Age) + (39.53 * Education)\n",
        "\n",
        "# Define the input data (Age, Education)\n",
        "data_points = np.array([\n",
        "    [35, 16],\n",
        "    [28, 14],\n",
        "    [45, 14.57],\n",
        "    [31, 12],\n",
        "    [52, 18],\n",
        "    [29, 14],\n",
        "    [42, 16],\n",
        "    [33, 12]\n",
        "])\n",
        "\n",
        "# Regression coefficients\n",
        "intercept = 5.76\n",
        "coef_age = 2.801\n",
        "coef_education = 39.53\n",
        "\n",
        "# Compute predictions\n",
        "predicted_credit_scores = intercept + coef_age * data_points[:, 0] + coef_education * data_points[:, 1]\n",
        "\n",
        "# Print the results\n",
        "for (age, education), prediction in zip(data_points, predicted_credit_scores):\n",
        "    print(f\"Age: {age}, Education: {education} -> Predicted Credit Score: {prediction:.2f}\")\n",
        "\n",
        "# Actual credit scores from the dataset\n",
        "actual_credit_scores = np.array([720, 650, 750, 600, 780, 630, 710, 640])\n",
        "\n",
        "# Predicted credit scores from the regression model\n",
        "predicted_credit_scores = np.array([736.28, 637.61, 707.76, 566.95, 862.95, 640.41, 755.88, 572.55])\n",
        "\n",
        "# Compute Mean Squared Error (MSE)\n",
        "mse = np.mean((actual_credit_scores - predicted_credit_scores) ** 2)\n",
        "\n",
        "# Print the MSE result\n",
        "print(f\"Mean Squared Error (MSE): {mse:.2f}\")\n",
        "\n",
        "\n",
        "\n",
        "# Actual credit scores from the dataset\n",
        "actual_credit_scores = np.array([720, 650, 750, 600, 780, 630, 710, 640])\n",
        "\n",
        "# Predicted credit scores from the regression model\n",
        "predicted_credit_scores = np.array([736.28, 637.61, 707.76, 566.95, 862.95, 640.41, 755.88, 572.55])\n",
        "\n",
        "# Compute SS_res (Residual Sum of Squares)\n",
        "ss_res = np.sum((actual_credit_scores - predicted_credit_scores) ** 2)\n",
        "\n",
        "# Compute SS_tot (Total Sum of Squares)\n",
        "mean_actual = np.mean(actual_credit_scores)\n",
        "ss_tot = np.sum((actual_credit_scores - mean_actual) ** 2)\n",
        "\n",
        "# Compute R² Score\n",
        "r2_score = 1 - (ss_res / ss_tot)\n",
        "\n",
        "# Print the R² Score\n",
        "print(f\"R² Score: {r2_score:.4f}\")\n",
        "\n",
        "\n",
        "\n"
      ]
    }
  ]
}