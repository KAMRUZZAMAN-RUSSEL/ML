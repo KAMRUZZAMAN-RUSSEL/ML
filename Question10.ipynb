{
  "nbformat": 4,
  "nbformat_minor": 0,
  "metadata": {
    "colab": {
      "provenance": [],
      "authorship_tag": "ABX9TyNN9EsG44WjemzuYc3xeq6C",
      "include_colab_link": true
    },
    "kernelspec": {
      "name": "python3",
      "display_name": "Python 3"
    },
    "language_info": {
      "name": "python"
    }
  },
  "cells": [
    {
      "cell_type": "markdown",
      "metadata": {
        "id": "view-in-github",
        "colab_type": "text"
      },
      "source": [
        "<a href=\"https://colab.research.google.com/github/KAMRUZZAMAN-RUSSEL/ML/blob/main/Question10.ipynb\" target=\"_parent\"><img src=\"https://colab.research.google.com/assets/colab-badge.svg\" alt=\"Open In Colab\"/></a>"
      ]
    },
    {
      "cell_type": "code",
      "execution_count": null,
      "metadata": {
        "id": "pGUdTfOpqBI-",
        "outputId": "0153e871-cbdc-424a-c245-1583e8aaeccd",
        "colab": {
          "base_uri": "https://localhost:8080/"
        }
      },
      "outputs": [
        {
          "output_type": "stream",
          "name": "stdout",
          "text": [
            "Forward pass output (prediction): [[0.59113989]]\n",
            "\n",
            "Updated W1:\n",
            " [[ 0.3021893   0.4984671 ]\n",
            " [ 0.40340363 -0.20238315]]\n",
            "Updated b1:\n",
            " [[ 0.10583814 -0.10408774]]\n",
            "Updated W2:\n",
            " [[ 0.62492478]\n",
            " [-0.37985442]]\n",
            "Updated b2:\n",
            " [[0.24088601]]\n"
          ]
        }
      ],
      "source": [
        "# Simple 1-hidden layer neural network forward and backward pass for T1\n",
        "import numpy as np\n",
        "\n",
        "def sigmoid(x):\n",
        "    return 1 / (1 + np.exp(-x))\n",
        "\n",
        "def sigmoid_derivative(x):\n",
        "    return sigmoid(x) * (1 - sigmoid(x))\n",
        "\n",
        "# Inputs (normalized Age and CreditScore for T1)\n",
        "x = np.array([[0.375, 0.583]])  # shape (1, 2)\n",
        "\n",
        "target = np.array([[1]])\n",
        "\n",
        "# Initial weights and biases\n",
        "W1 = np.array([[0.3, 0.5], [0.4, -0.2]])  # shape (2, 2)\n",
        "b1 = np.array([[0.1, -0.1]])\n",
        "\n",
        "W2 = np.array([[0.6], [-0.4]])  # shape (2, 1)\n",
        "b2 = np.array([[0.2]])\n",
        "\n",
        "# Forward pass\n",
        "z1 = np.dot(x, W1) + b1  # (1, 2)\n",
        "a1 = sigmoid(z1)         # (1, 2)\n",
        "\n",
        "z2 = np.dot(a1, W2) + b2 # (1, 1)\n",
        "y_pred = sigmoid(z2)     # (1, 1)\n",
        "\n",
        "print(\"Forward pass output (prediction):\", y_pred)\n",
        "\n",
        "# Backward pass\n",
        "learning_rate = 0.1\n",
        "\n",
        "dz2 = y_pred - target           # (1, 1)\n",
        "dW2 = np.dot(a1.T, dz2)        # (2, 1)\n",
        "db2 = dz2                      # (1, 1)\n",
        "\n",
        "# Hidden layer error\n",
        "sigmoid_prime_z1 = sigmoid_derivative(z1)  # (1, 2)\n",
        "dz1 = np.dot(dz2, W2.T) * sigmoid_prime_z1 # (1, 2)\n",
        "dW1 = np.dot(x.T, dz1)         # (2, 2)\n",
        "db1 = dz1                      # (1, 2)\n",
        "\n",
        "# Update weights and biases\n",
        "W2 -= learning_rate * dW2\n",
        "b2 -= learning_rate * db2\n",
        "W1 -= learning_rate * dW1\n",
        "b1 -= learning_rate * db1\n",
        "\n",
        "print(\"\\nUpdated W1:\\n\", W1)\n",
        "print(\"Updated b1:\\n\", b1)\n",
        "print(\"Updated W2:\\n\", W2)\n",
        "print(\"Updated b2:\\n\", b2)\n"
      ]
    }
  ]
}