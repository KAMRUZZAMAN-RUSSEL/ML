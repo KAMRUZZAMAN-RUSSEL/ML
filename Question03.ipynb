{
  "nbformat": 4,
  "nbformat_minor": 0,
  "metadata": {
    "colab": {
      "provenance": [],
      "authorship_tag": "ABX9TyMbJXSyFsXzAPCAbknr3rA9",
      "include_colab_link": true
    },
    "kernelspec": {
      "name": "python3",
      "display_name": "Python 3"
    },
    "language_info": {
      "name": "python"
    }
  },
  "cells": [
    {
      "cell_type": "markdown",
      "metadata": {
        "id": "view-in-github",
        "colab_type": "text"
      },
      "source": [
        "<a href=\"https://colab.research.google.com/github/KAMRUZZAMAN-RUSSEL/ML/blob/main/Question03.ipynb\" target=\"_parent\"><img src=\"https://colab.research.google.com/assets/colab-badge.svg\" alt=\"Open In Colab\"/></a>"
      ]
    },
    {
      "cell_type": "code",
      "execution_count": 1,
      "metadata": {
        "colab": {
          "base_uri": "https://localhost:8080/"
        },
        "id": "FLCzW0zCqcGl",
        "outputId": "cf2ceff5-aa58-4c2d-e7ec-8a486b4dd047"
      },
      "outputs": [
        {
          "output_type": "stream",
          "name": "stdout",
          "text": [
            "T2 has a high probability of being HIGH RISK\n"
          ]
        }
      ],
      "source": [
        "# Existing high-risk dataset\n",
        "data = [\n",
        "    {\"age\": 28, \"credit\": 650, \"education\": 14},\n",
        "    {\"age\": 31, \"credit\": 600, \"education\": 12},\n",
        "    {\"age\": 29, \"credit\": 630, \"education\": 14},\n",
        "    {\"age\": 33, \"credit\": 640, \"education\": 12}\n",
        "]\n",
        "\n",
        "# New test person\n",
        "test_person = {\"age\": 30, \"credit\": 645, \"education\": None}\n",
        "\n",
        "# Check similarity\n",
        "def is_similar(person, reference):\n",
        "    return (\n",
        "        28 <= person[\"age\"] <= 33 and\n",
        "        600 <= person[\"credit\"] <= 650\n",
        "    )\n",
        "\n",
        "if is_similar(test_person, data[0]):\n",
        "    print(\"T2 has a high probability of being HIGH RISK\")\n",
        "else:\n",
        "    print(\"Risk level unclear\")\n"
      ]
    }
  ]
}