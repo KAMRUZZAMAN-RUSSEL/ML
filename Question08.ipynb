{
  "nbformat": 4,
  "nbformat_minor": 0,
  "metadata": {
    "colab": {
      "provenance": [],
      "authorship_tag": "ABX9TyNoTX0U1jufB0J9gPyADuXL",
      "include_colab_link": true
    },
    "kernelspec": {
      "name": "python3",
      "display_name": "Python 3"
    },
    "language_info": {
      "name": "python"
    }
  },
  "cells": [
    {
      "cell_type": "markdown",
      "metadata": {
        "id": "view-in-github",
        "colab_type": "text"
      },
      "source": [
        "<a href=\"https://colab.research.google.com/github/KAMRUZZAMAN-RUSSEL/ML/blob/main/Question08.ipynb\" target=\"_parent\"><img src=\"https://colab.research.google.com/assets/colab-badge.svg\" alt=\"Open In Colab\"/></a>"
      ]
    },
    {
      "cell_type": "code",
      "execution_count": 3,
      "metadata": {
        "colab": {
          "base_uri": "https://localhost:8080/"
        },
        "id": "Evq5Fdq1QSu0",
        "outputId": "e103eed2-b526-41ca-df67-5d9f9cd54635"
      },
      "outputs": [
        {
          "output_type": "stream",
          "name": "stdout",
          "text": [
            "Gradient Vector:\n",
            "[  0.4999125  21.7466625 369.939625    8.2487   ]\n",
            "\n",
            "Updated Theta Values:\n",
            "[-1.00499913 -0.20746662 -3.67939625 -0.052487  ]\n"
          ]
        }
      ],
      "source": [
        "import numpy as np\n",
        "\n",
        "# Step 1: Define feature matrix X (including bias term) and target vector y\n",
        "X = np.array([\n",
        "    [1, 35, 720, 16],\n",
        "    [1, 28, 650, 14],\n",
        "    [1, 45, 750, 16],\n",
        "    [1, 31, 600, 12],\n",
        "    [1, 52, 780, 18],\n",
        "    [1, 29, 630, 14],\n",
        "    [1, 42, 710, 16],\n",
        "    [1, 33, 640, 12],\n",
        "])\n",
        "\n",
        "y = np.array([0, 1, 0, 1, 0, 1, 0, 1])  # Binary class labels\n",
        "\n",
        "# Step 2: Initialize theta parameters\n",
        "theta = np.array([-1, 0.01, 0.02, 0.03])  # Initial parameter values\n",
        "alpha = 0.01  # Learning rate\n",
        "\n",
        "# Step 3: Define the sigmoid function\n",
        "def sigmoid(z):\n",
        "    return 1 / (1 + np.exp(-z))\n",
        "\n",
        "# Step 4: Compute z = X @ theta (linear combination of inputs and weights)\n",
        "z = X @ theta\n",
        "\n",
        "# Step 5: Compute h_theta (sigmoid activation function)\n",
        "h_theta = sigmoid(z)\n",
        "\n",
        "# Step 6: Compute the error term (difference between predictions and actual values)\n",
        "errors = np.array([0.9999, 0, 0.9999, -0.0001, 0.9999, -0.0001, 0.9999, -0.0001])\n",
        "\n",
        "# Step 7: Compute the gradient vector\n",
        "m = len(y)  # Number of training examples\n",
        "gradient_vector = (1 / m) * (X.T @ errors)\n",
        "\n",
        "# Step 8: Update theta using gradient descent\n",
        "theta_new = theta - alpha * gradient_vector\n",
        "\n",
        "# Display results\n",
        "print(\"Gradient Vector:\")\n",
        "print(gradient_vector)\n",
        "print(\"\\nUpdated Theta Values:\")\n",
        "print(theta_new)\n"
      ]
    }
  ]
}