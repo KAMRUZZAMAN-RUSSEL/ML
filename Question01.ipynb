{
  "nbformat": 4,
  "nbformat_minor": 0,
  "metadata": {
    "colab": {
      "provenance": [],
      "authorship_tag": "ABX9TyNn85lfzOF3xjPhrd10/Aua",
      "include_colab_link": true
    },
    "kernelspec": {
      "name": "python3",
      "display_name": "Python 3"
    },
    "language_info": {
      "name": "python"
    }
  },
  "cells": [
    {
      "cell_type": "markdown",
      "metadata": {
        "id": "view-in-github",
        "colab_type": "text"
      },
      "source": [
        "<a href=\"https://colab.research.google.com/github/KAMRUZZAMAN-RUSSEL/ML/blob/main/Question01.ipynb\" target=\"_parent\"><img src=\"https://colab.research.google.com/assets/colab-badge.svg\" alt=\"Open In Colab\"/></a>"
      ]
    },
    {
      "cell_type": "code",
      "execution_count": 1,
      "metadata": {
        "colab": {
          "base_uri": "https://localhost:8080/"
        },
        "id": "U0U0ohKKdDBw",
        "outputId": "17f55551-99c1-4c25-8bbd-64d72ffef872"
      },
      "outputs": [
        {
          "output_type": "stream",
          "name": "stdout",
          "text": [
            "Initial Entropy: 1.00\n",
            "Entropy after split: -0.00\n",
            "Information Gain: 1.00\n"
          ]
        }
      ],
      "source": [
        "import math\n",
        "\n",
        "def entropy(class_counts):\n",
        "    total = sum(class_counts)\n",
        "    return -sum((count / total) * math.log2(count / total)\n",
        "                for count in class_counts if count != 0)\n",
        "\n",
        "# Initial set: 4 Low Risk, 4 High Risk\n",
        "initial_entropy = entropy([4, 4])\n",
        "\n",
        "# After split:\n",
        "# Credit Score > 650 → 4 Low Risk, 0 High Risk\n",
        "# Credit Score <= 650 → 0 Low Risk, 4 High Risk\n",
        "entropy_greater = entropy([4, 0])\n",
        "entropy_less_equal = entropy([0, 4])\n",
        "\n",
        "# Weighted average of split entropies\n",
        "weighted_entropy = (4/8)*entropy_greater + (4/8)*entropy_less_equal\n",
        "\n",
        "# Information Gain\n",
        "info_gain = initial_entropy - weighted_entropy\n",
        "\n",
        "print(f\"Initial Entropy: {initial_entropy:.2f}\")\n",
        "print(f\"Entropy after split: {weighted_entropy:.2f}\")\n",
        "print(f\"Information Gain: {info_gain:.2f}\")\n"
      ]
    }
  ]
}