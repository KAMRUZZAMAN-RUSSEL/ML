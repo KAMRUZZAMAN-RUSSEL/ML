{
  "nbformat": 4,
  "nbformat_minor": 0,
  "metadata": {
    "colab": {
      "provenance": [],
      "authorship_tag": "ABX9TyMHsSnwxK3RqpCpmzeBf3mM",
      "include_colab_link": true
    },
    "kernelspec": {
      "name": "python3",
      "display_name": "Python 3"
    },
    "language_info": {
      "name": "python"
    }
  },
  "cells": [
    {
      "cell_type": "markdown",
      "metadata": {
        "id": "view-in-github",
        "colab_type": "text"
      },
      "source": [
        "<a href=\"https://colab.research.google.com/github/KAMRUZZAMAN-RUSSEL/ML/blob/main/Question11.ipynb\" target=\"_parent\"><img src=\"https://colab.research.google.com/assets/colab-badge.svg\" alt=\"Open In Colab\"/></a>"
      ]
    },
    {
      "cell_type": "code",
      "execution_count": null,
      "metadata": {
        "colab": {
          "base_uri": "https://localhost:8080/"
        },
        "id": "UjE2YK3fuY5e",
        "outputId": "dfb0b978-55cb-4b93-e9ac-0c71a72d059d"
      },
      "outputs": [
        {
          "output_type": "stream",
          "name": "stdout",
          "text": [
            "P(T1 | Low): 0.00003932\n",
            "P(T1 | High): 0.00000000\n",
            "Predicted RiskLevel for T1: Low\n"
          ]
        }
      ],
      "source": [
        "import numpy as np\n",
        "from math import exp, sqrt, pi\n",
        "\n",
        "# Gaussian Probability Density Function\n",
        "def gaussian(x, mean, var):\n",
        "    if var == 0:  # to avoid division by zero\n",
        "        return 1 if x == mean else 0\n",
        "    return (1 / sqrt(2 * pi * var)) * exp(-((x - mean) ** 2) / (2 * var))\n",
        "\n",
        "# Training data split by class\n",
        "low_data = {\n",
        "    'Age': [35, 45, 52, 42],\n",
        "    'CreditScore': [720, 750, 780, 710],\n",
        "    'Education': [16, 18, 16]  # ID 3 has missing education\n",
        "}\n",
        "\n",
        "high_data = {\n",
        "    'Age': [28, 31, 29, 33],\n",
        "    'CreditScore': [650, 600, 630, 640],\n",
        "    'Education': [14, 12, 14, 12]\n",
        "}\n",
        "\n",
        "# Compute mean and variance for each feature\n",
        "def mean_var(values):\n",
        "    mean = np.mean(values)\n",
        "    var = np.var(values)\n",
        "    return mean, var\n",
        "\n",
        "low_stats = {feature: mean_var(vals) for feature, vals in low_data.items()}\n",
        "high_stats = {feature: mean_var(vals) for feature, vals in high_data.items()}\n",
        "\n",
        "# Prior probabilities\n",
        "P_low = 4 / 8\n",
        "P_high = 4 / 8\n",
        "\n",
        "# Test instance T1\n",
        "T1 = {\n",
        "    'Age': 37,\n",
        "    'CreditScore': 705,\n",
        "    'Education': 16\n",
        "}\n",
        "\n",
        "# Compute likelihoods\n",
        "P_T1_given_low = 1\n",
        "P_T1_given_high = 1\n",
        "\n",
        "for feature in T1:\n",
        "    x = T1[feature]\n",
        "    mean_low, var_low = low_stats[feature]\n",
        "    mean_high, var_high = high_stats[feature]\n",
        "\n",
        "    P_T1_given_low *= gaussian(x, mean_low, var_low)\n",
        "    P_T1_given_high *= gaussian(x, mean_high, var_high)\n",
        "\n",
        "# Posterior probabilities (unnormalized)\n",
        "posterior_low = P_T1_given_low * P_low\n",
        "posterior_high = P_T1_given_high * P_high\n",
        "\n",
        "# Classification\n",
        "prediction = \"Low\" if posterior_low > posterior_high else \"High\"\n",
        "\n",
        "print(f\"P(T1 | Low): {posterior_low:.8f}\")\n",
        "print(f\"P(T1 | High): {posterior_high:.8f}\")\n",
        "print(f\"Predicted RiskLevel for T1: {prediction}\")\n"
      ]
    }
  ]
}