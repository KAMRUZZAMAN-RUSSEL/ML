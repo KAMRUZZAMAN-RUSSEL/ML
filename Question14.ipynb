{
  "nbformat": 4,
  "nbformat_minor": 0,
  "metadata": {
    "colab": {
      "provenance": [],
      "authorship_tag": "ABX9TyMcbrqi5XS29eBKQPk7bzGk",
      "include_colab_link": true
    },
    "kernelspec": {
      "name": "python3",
      "display_name": "Python 3"
    },
    "language_info": {
      "name": "python"
    }
  },
  "cells": [
    {
      "cell_type": "markdown",
      "metadata": {
        "id": "view-in-github",
        "colab_type": "text"
      },
      "source": [
        "<a href=\"https://colab.research.google.com/github/KAMRUZZAMAN-RUSSEL/ML/blob/main/Question14.ipynb\" target=\"_parent\"><img src=\"https://colab.research.google.com/assets/colab-badge.svg\" alt=\"Open In Colab\"/></a>"
      ]
    },
    {
      "cell_type": "code",
      "execution_count": 1,
      "metadata": {
        "colab": {
          "base_uri": "https://localhost:8080/"
        },
        "id": "o4TAXoqrC3Yl",
        "outputId": "4ba7fdf2-f896-48bf-e294-fb3a1576d6cc"
      },
      "outputs": [
        {
          "output_type": "stream",
          "name": "stdout",
          "text": [
            "Variance by Risk Class:\n",
            "RiskClass\n",
            "0    250.0\n",
            "1    250.0\n",
            "Name: CreditScore, dtype: float64 \n",
            "\n",
            "Entropy by Risk Class:\n",
            "RiskClass\n",
            "0    0.970951\n",
            "1    0.721928\n",
            "dtype: float64\n"
          ]
        },
        {
          "output_type": "stream",
          "name": "stderr",
          "text": [
            "<ipython-input-1-ed2e01b0f002>:28: DeprecationWarning: DataFrameGroupBy.apply operated on the grouping columns. This behavior is deprecated, and in a future version of pandas the grouping columns will be excluded from the operation. Either pass `include_groups=False` to exclude the groupings or explicitly select the grouping columns after groupby to silence this warning.\n",
            "  entropy_by_class = df.groupby('RiskClass').apply(class_entropy)\n"
          ]
        }
      ],
      "source": [
        "import numpy as np\n",
        "import pandas as pd\n",
        "from scipy.stats import entropy\n",
        "\n",
        "# Sample dataset\n",
        "data = {\n",
        "    'CreditScore': [720, 690, 710, 680, 700, 610, 640, 620, 630, 650],\n",
        "    'RiskClass':   [0,   0,   0,   0,   0,   1,   1,   1,   1,   1]\n",
        "}\n",
        "\n",
        "df = pd.DataFrame(data)\n",
        "\n",
        "# Step 1: Variance per class\n",
        "variance_by_class = df.groupby('RiskClass')['CreditScore'].var()\n",
        "print(\"Variance by Risk Class:\")\n",
        "print(variance_by_class, '\\n')\n",
        "\n",
        "# Step 2: Bin CreditScore to calculate entropy\n",
        "bins = [600, 649, 699, 750]\n",
        "labels = ['Low', 'Medium', 'High']\n",
        "df['ScoreBin'] = pd.cut(df['CreditScore'], bins=bins, labels=labels, include_lowest=True)\n",
        "\n",
        "# Step 3: Calculate entropy per class\n",
        "def class_entropy(group):\n",
        "    counts = group['ScoreBin'].value_counts(normalize=True)\n",
        "    return entropy(counts, base=2)\n",
        "\n",
        "entropy_by_class = df.groupby('RiskClass').apply(class_entropy)\n",
        "print(\"Entropy by Risk Class:\")\n",
        "print(entropy_by_class)\n"
      ]
    }
  ]
}