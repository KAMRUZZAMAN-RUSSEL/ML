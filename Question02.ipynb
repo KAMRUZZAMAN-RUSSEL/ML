{
  "nbformat": 4,
  "nbformat_minor": 0,
  "metadata": {
    "colab": {
      "provenance": [],
      "authorship_tag": "ABX9TyOQ7lHMdQA1aZtH6b4O5jrU",
      "include_colab_link": true
    },
    "kernelspec": {
      "name": "python3",
      "display_name": "Python 3"
    },
    "language_info": {
      "name": "python"
    }
  },
  "cells": [
    {
      "cell_type": "markdown",
      "metadata": {
        "id": "view-in-github",
        "colab_type": "text"
      },
      "source": [
        "<a href=\"https://colab.research.google.com/github/KAMRUZZAMAN-RUSSEL/ML/blob/main/Question02.ipynb\" target=\"_parent\"><img src=\"https://colab.research.google.com/assets/colab-badge.svg\" alt=\"Open In Colab\"/></a>"
      ]
    },
    {
      "cell_type": "code",
      "execution_count": 9,
      "metadata": {
        "colab": {
          "base_uri": "https://localhost:8080/"
        },
        "id": "stnRrB6si01G",
        "outputId": "2e2d01cf-57a6-4a72-9146-9b7542b3f268"
      },
      "outputs": [
        {
          "output_type": "stream",
          "name": "stdout",
          "text": [
            "Total Variance: 3575.00\n",
            "Weighted Variance: 3093.33\n",
            "Variance Reduction: 481.67\n"
          ]
        }
      ],
      "source": [
        "import numpy as np\n",
        "\n",
        "# Credit scores from the dataset\n",
        "credit_scores = [720, 650, 750, 600, 780, 630, 710, 640]\n",
        "\n",
        "# Overall mean and variance\n",
        "mean_total = np.mean(credit_scores)\n",
        "var_total = np.var(credit_scores, ddof=0)  # Population variance\n",
        "print(f\"Total Variance: {var_total:.2f}\")\n",
        "\n",
        "# Split on Age <= 35 → IDs: 1, 2, 4 → credit scores: 720, 650, 600\n",
        "left_group = [720, 650, 600]\n",
        "right_group = [750, 780, 630, 710, 640]\n",
        "\n",
        "# Variance of left and right groups\n",
        "var_left = np.var(left_group, ddof=0)\n",
        "var_right = np.var(right_group, ddof=0)\n",
        "\n",
        "# Weighted variance after split\n",
        "w_left = len(left_group) / len(credit_scores)\n",
        "w_right = len(right_group) / len(credit_scores)\n",
        "weighted_variance = w_left * var_left + w_right * var_right\n",
        "\n",
        "# Variance reduction\n",
        "variance_reduction = var_total - weighted_variance\n",
        "\n",
        "print(f\"Weighted Variance: {weighted_variance:.2f}\")\n",
        "print(f\"Variance Reduction: {variance_reduction:.2f}\")\n"
      ]
    }
  ]
}