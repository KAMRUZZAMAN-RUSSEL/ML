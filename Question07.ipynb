{
  "nbformat": 4,
  "nbformat_minor": 0,
  "metadata": {
    "colab": {
      "provenance": [],
      "authorship_tag": "ABX9TyOGLniDNEmiTYIcOumUHugz",
      "include_colab_link": true
    },
    "kernelspec": {
      "name": "python3",
      "display_name": "Python 3"
    },
    "language_info": {
      "name": "python"
    }
  },
  "cells": [
    {
      "cell_type": "markdown",
      "metadata": {
        "id": "view-in-github",
        "colab_type": "text"
      },
      "source": [
        "<a href=\"https://colab.research.google.com/github/KAMRUZZAMAN-RUSSEL/ML/blob/main/Question07.ipynb\" target=\"_parent\"><img src=\"https://colab.research.google.com/assets/colab-badge.svg\" alt=\"Open In Colab\"/></a>"
      ]
    },
    {
      "cell_type": "code",
      "execution_count": 5,
      "metadata": {
        "colab": {
          "base_uri": "https://localhost:8080/"
        },
        "id": "mLkyPblnkMkr",
        "outputId": "08fe8558-d677-4ada-e50c-2bb03d5663a2"
      },
      "outputs": [
        {
          "output_type": "stream",
          "name": "stdout",
          "text": [
            "Predicted Probability for T1: 0.9989\n",
            "Cost Function Value for T1: 6.8111\n"
          ]
        }
      ],
      "source": [
        "import numpy as np\n",
        "\n",
        "# Given weights\n",
        "w0 = 0.5\n",
        "w1 = -0.02\n",
        "w2 = 0.01\n",
        "\n",
        "# T1 Data\n",
        "age_T1 = 37\n",
        "credit_score_T1 = 705\n",
        "\n",
        "# Compute z (linear combination)\n",
        "z = w0 + (w1 * age_T1) + (w2 * credit_score_T1)\n",
        "\n",
        "# Sigmoid function\n",
        "def sigmoid(z):\n",
        "    return 1 / (1 + np.exp(-z))\n",
        "\n",
        "# Compute predicted probability\n",
        "predicted_prob = sigmoid(z)\n",
        "\n",
        "# Assume actual RiskLevel (Low = 0, High = 1)\n",
        "actual_y_T1 = 0  # Assuming \"Low\" corresponds to 0\n",
        "\n",
        "# Compute log loss (cost function)\n",
        "cost = - (actual_y_T1 * np.log(predicted_prob) + (1 - actual_y_T1) * np.log(1 - predicted_prob))\n",
        "\n",
        "# Print results\n",
        "print(f\"Predicted Probability for T1: {predicted_prob:.4f}\")\n",
        "print(f\"Cost Function Value for T1: {cost:.4f}\")\n"
      ]
    }
  ]
}