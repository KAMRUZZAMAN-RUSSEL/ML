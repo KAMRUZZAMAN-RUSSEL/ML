{
  "nbformat": 4,
  "nbformat_minor": 0,
  "metadata": {
    "colab": {
      "provenance": [],
      "authorship_tag": "ABX9TyOjr08mkILTxJ/XL7g8mQj+",
      "include_colab_link": true
    },
    "kernelspec": {
      "name": "python3",
      "display_name": "Python 3"
    },
    "language_info": {
      "name": "python"
    }
  },
  "cells": [
    {
      "cell_type": "markdown",
      "metadata": {
        "id": "view-in-github",
        "colab_type": "text"
      },
      "source": [
        "<a href=\"https://colab.research.google.com/github/KAMRUZZAMAN-RUSSEL/ML/blob/main/Question05.ipynb\" target=\"_parent\"><img src=\"https://colab.research.google.com/assets/colab-badge.svg\" alt=\"Open In Colab\"/></a>"
      ]
    },
    {
      "cell_type": "code",
      "execution_count": null,
      "metadata": {
        "colab": {
          "base_uri": "https://localhost:8080/"
        },
        "id": "vOZp18y3LL_u",
        "outputId": "77ff69e7-cf1c-40a2-e1f4-a2e794adeee5"
      },
      "outputs": [
        {
          "output_type": "stream",
          "name": "stdout",
          "text": [
            "Estimated coefficients (β):\n",
            "[340.96433953   4.72250126  11.71678805]\n"
          ]
        }
      ],
      "source": [
        "import numpy as np\n",
        "\n",
        "# Define the dependent variable (Credit Score)\n",
        "y = np.array([720, 650, 750, 600, 780, 630, 710, 640])\n",
        "\n",
        "# Define independent variables (Age and Education)\n",
        "X = np.array([\n",
        "    [1, 35, 16],\n",
        "    [1, 28, 14],\n",
        "    [1, 45, 14],\n",
        "    [1, 31, 12],\n",
        "    [1, 52, 18],\n",
        "    [1, 29, 14],\n",
        "    [1, 42, 16],\n",
        "    [1, 33, 12]\n",
        "])\n",
        "\n",
        "# Compute beta using the normal equation\n",
        "beta = np.linalg.inv(X.T @ X) @ X.T @ y\n",
        "\n",
        "# Display the estimated coefficients\n",
        "print(\"Estimated coefficients (β):\")\n",
        "print(beta)"
      ]
    }
  ]
}