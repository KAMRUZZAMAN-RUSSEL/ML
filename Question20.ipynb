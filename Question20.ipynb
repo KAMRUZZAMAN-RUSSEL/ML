{
  "nbformat": 4,
  "nbformat_minor": 0,
  "metadata": {
    "colab": {
      "provenance": [],
      "authorship_tag": "ABX9TyPMGVy+hxlpnvFqmOeXRjsX",
      "include_colab_link": true
    },
    "kernelspec": {
      "name": "python3",
      "display_name": "Python 3"
    },
    "language_info": {
      "name": "python"
    }
  },
  "cells": [
    {
      "cell_type": "markdown",
      "metadata": {
        "id": "view-in-github",
        "colab_type": "text"
      },
      "source": [
        "<a href=\"https://colab.research.google.com/github/KAMRUZZAMAN-RUSSEL/ML/blob/main/Question20.ipynb\" target=\"_parent\"><img src=\"https://colab.research.google.com/assets/colab-badge.svg\" alt=\"Open In Colab\"/></a>"
      ]
    },
    {
      "cell_type": "code",
      "execution_count": 1,
      "metadata": {
        "colab": {
          "base_uri": "https://localhost:8080/"
        },
        "id": "STSN5G8tlCxY",
        "outputId": "b7af635f-a083-4477-ac1c-557fc41d0fec"
      },
      "outputs": [
        {
          "output_type": "stream",
          "name": "stdout",
          "text": [
            "Forward probability of observing sequence [705, 645]: 0.0900\n",
            "Alpha matrix (step-by-step probabilities):\n",
            "Time 1: {'Low': 0.06666666666666667, 'Medium': 0.2333333333333333, 'High': 0.03333333333333333}\n",
            "Time 2: {'Low': 0.027999999999999997, 'Medium': 0.049999999999999996, 'High': 0.012}\n"
          ]
        }
      ],
      "source": [
        "# Define HMM components\n",
        "states = ['Low', 'Medium', 'High']\n",
        "observations = [705, 645]\n",
        "\n",
        "# Initial state probabilities (uniform)\n",
        "start_prob = {s: 1/3 for s in states}\n",
        "\n",
        "# Transition probabilities\n",
        "trans_prob = {\n",
        "    'Low': {'Low': 0.7, 'Medium': 0.3, 'High': 0},\n",
        "    'Medium': {'Low': 0, 'Medium': 0.6, 'High': 0.4},\n",
        "    'High': {'Low': 0, 'Medium': 0.2, 'High': 0.8}\n",
        "}\n",
        "\n",
        "# Emission probabilities based on assumed buckets:\n",
        "# - 705 is Medium → high probability for 'Medium'\n",
        "# - 645 is Low → high probability for 'Low'\n",
        "emission_prob = {\n",
        "    705: {'Low': 0.2, 'Medium': 0.7, 'High': 0.1},\n",
        "    645: {'Low': 0.6, 'Medium': 0.3, 'High': 0.1}\n",
        "}\n",
        "\n",
        "# Forward algorithm implementation\n",
        "def forward_algorithm(states, observations, start_prob, trans_prob, emission_prob):\n",
        "    alpha = [{}]  # forward probability matrix\n",
        "\n",
        "    # Initialization step\n",
        "    for state in states:\n",
        "        alpha[0][state] = start_prob[state] * emission_prob[observations[0]][state]\n",
        "\n",
        "    # Induction step\n",
        "    for t in range(1, len(observations)):\n",
        "        alpha.append({})\n",
        "        for curr_state in states:\n",
        "            alpha[t][curr_state] = sum(\n",
        "                alpha[t-1][prev_state] *\n",
        "                trans_prob[prev_state].get(curr_state, 0) *\n",
        "                emission_prob[observations[t]][curr_state]\n",
        "                for prev_state in states\n",
        "            )\n",
        "\n",
        "    # Termination: sum over all ending state probabilities\n",
        "    prob_sequence = sum(alpha[-1][state] for state in states)\n",
        "    return prob_sequence, alpha\n",
        "\n",
        "# Run the forward algorithm\n",
        "prob, alpha_matrix = forward_algorithm(states, observations, start_prob, trans_prob, emission_prob)\n",
        "\n",
        "# Output\n",
        "print(f\"Forward probability of observing sequence {observations}: {prob:.4f}\")\n",
        "print(\"Alpha matrix (step-by-step probabilities):\")\n",
        "for t, alpha_t in enumerate(alpha_matrix):\n",
        "    print(f\"Time {t+1}: {alpha_t}\")\n"
      ]
    }
  ]
}