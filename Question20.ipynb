{
  "nbformat": 4,
  "nbformat_minor": 0,
  "metadata": {
    "colab": {
      "provenance": [],
      "authorship_tag": "ABX9TyO5MY9y1RVq9KNN6Q/dlUAt",
      "include_colab_link": true
    },
    "kernelspec": {
      "name": "python3",
      "display_name": "Python 3"
    },
    "language_info": {
      "name": "python"
    }
  },
  "cells": [
    {
      "cell_type": "markdown",
      "metadata": {
        "id": "view-in-github",
        "colab_type": "text"
      },
      "source": [
        "<a href=\"https://colab.research.google.com/github/KAMRUZZAMAN-RUSSEL/ML/blob/main/Question20.ipynb\" target=\"_parent\"><img src=\"https://colab.research.google.com/assets/colab-badge.svg\" alt=\"Open In Colab\"/></a>"
      ]
    },
    {
      "cell_type": "code",
      "execution_count": 6,
      "metadata": {
        "colab": {
          "base_uri": "https://localhost:8080/"
        },
        "id": "STSN5G8tlCxY",
        "outputId": "29afb62c-361e-48e0-c546-9310282a738d"
      },
      "outputs": [
        {
          "output_type": "stream",
          "name": "stdout",
          "text": [
            "Observations: [705, 645]\n",
            "Probability of observing the sequence: 3.173006298427878e-05\n",
            "\n",
            "How this model could help predict future credit behavior:\n",
            "- **Identifying Trends:** By analyzing sequences of credit-related observations, the HMM can identify underlying trends in credit risk (e.g., moving from Low to Medium risk).\n",
            "- **Probabilistic Forecasting:** The model can predict the probability of transitioning to different risk levels in the future based on the current likely state and the transition probabilities.\n",
            "- **Risk Assessment:** The probability of being in a high-risk state can be used for more dynamic and sequence-aware risk assessment.\n",
            "- **Anomaly Detection:** Unlikely sequences of observations or rapid transitions to high-risk states can be flagged as potential anomalies.\n",
            "- **Personalized Strategies:** Understanding the likely trajectory of a customer's credit risk can inform personalized financial products or interventions.\n"
          ]
        }
      ],
      "source": [
        "import numpy as np\n",
        "from scipy.stats import norm\n",
        "\n",
        "def forward(observations, states, start_prob, trans_prob, emit_prob_params):\n",
        "    \"\"\"\n",
        "    Forward algorithm for calculating the probability of an observed sequence.\n",
        "\n",
        "    Args:\n",
        "        observations (list): List of observed values.\n",
        "        states (list): List of possible hidden states.\n",
        "        start_prob (dict): Dictionary of initial probabilities for each state.\n",
        "        trans_prob (dict): Dictionary of transition probabilities between states.\n",
        "                           trans_prob[from_state][to_state] = probability.\n",
        "        emit_prob_params (dict): Dictionary of emission distribution parameters for each state.\n",
        "                                 emit_prob_params[state] = {'mean': ..., 'std': ...}.\n",
        "\n",
        "    Returns:\n",
        "        float: Probability of the observed sequence.\n",
        "    \"\"\"\n",
        "    T = len(observations)\n",
        "    N = len(states)\n",
        "\n",
        "    # Initialize forward probabilities\n",
        "    alpha = np.zeros((N, T))\n",
        "\n",
        "    # Initialization step (t=0)\n",
        "    for i, state in enumerate(states):\n",
        "        alpha[i, 0] = start_prob[state] * norm.pdf(observations[0], emit_prob_params[state]['mean'], emit_prob_params[state]['std'])\n",
        "\n",
        "    # Recursion step (t > 0)\n",
        "    for t in range(1, T):\n",
        "        for i, current_state in enumerate(states):\n",
        "            sum_prob = 0\n",
        "            for j, prev_state in enumerate(states):\n",
        "                sum_prob += alpha[j, t - 1] * trans_prob[prev_state][current_state]\n",
        "            alpha[i, t] = sum_prob * norm.pdf(observations[t], emit_prob_params[current_state]['mean'], emit_prob_params[current_state]['std'])\n",
        "\n",
        "    # Termination step: Sum the probabilities of being in any state at the final time step\n",
        "    probability_of_sequence = np.sum(alpha[:, T - 1])\n",
        "\n",
        "    return probability_of_sequence\n",
        "\n",
        "if __name__ == '__main__':\n",
        "    # Define the Hidden Markov Model (same as in the Viterbi example)\n",
        "    states = [\"Low\", \"Medium\", \"High\"]\n",
        "    observations = [705, 645]  # The new observation sequence\n",
        "\n",
        "    # Initial probabilities (assuming uniform)\n",
        "    start_probability = {\"Low\": 1/3, \"Medium\": 1/3, \"High\": 1/3}\n",
        "\n",
        "    # Transition probabilities\n",
        "    transition_probability = {\n",
        "        \"Low\": {\"Low\": 0.7, \"Medium\": 0.3, \"High\": 0.0},\n",
        "        \"Medium\": {\"Low\": 0.0, \"Medium\": 0.6, \"High\": 0.4},\n",
        "        \"High\": {\"Low\": 0.0, \"Medium\": 0.2, \"High\": 0.8},\n",
        "    }\n",
        "\n",
        "    # Emission probabilities (defined by mean and standard deviation)\n",
        "    emission_probability_params = {\n",
        "        \"Low\": {\"mean\": 700, \"std\": 50},\n",
        "        \"Medium\": {\"mean\": 660, \"std\": 50},\n",
        "        \"High\": {\"mean\": 620, \"std\": 50},\n",
        "    }\n",
        "\n",
        "    # Run the forward algorithm\n",
        "    probability = forward(\n",
        "        observations,\n",
        "        states,\n",
        "        start_probability,\n",
        "        transition_probability,\n",
        "        emission_probability_params\n",
        "    )\n",
        "\n",
        "    print(\"Observations:\", observations)\n",
        "    print(\"Probability of observing the sequence:\", probability)\n",
        "\n",
        "    print(\"\\nHow this model could help predict future credit behavior:\")\n",
        "    print(\"- **Identifying Trends:** By analyzing sequences of credit-related observations, the HMM can identify underlying trends in credit risk (e.g., moving from Low to Medium risk).\")\n",
        "    print(\"- **Probabilistic Forecasting:** The model can predict the probability of transitioning to different risk levels in the future based on the current likely state and the transition probabilities.\")\n",
        "    print(\"- **Risk Assessment:** The probability of being in a high-risk state can be used for more dynamic and sequence-aware risk assessment.\")\n",
        "    print(\"- **Anomaly Detection:** Unlikely sequences of observations or rapid transitions to high-risk states can be flagged as potential anomalies.\")\n",
        "    print(\"- **Personalized Strategies:** Understanding the likely trajectory of a customer's credit risk can inform personalized financial products or interventions.\")"
      ]
    }
  ]
}