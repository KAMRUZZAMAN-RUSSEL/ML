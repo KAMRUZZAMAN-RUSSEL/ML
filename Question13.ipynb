{
  "nbformat": 4,
  "nbformat_minor": 0,
  "metadata": {
    "colab": {
      "provenance": [],
      "authorship_tag": "ABX9TyNMHLHcERIMNfUrL5oPBbjc",
      "include_colab_link": true
    },
    "kernelspec": {
      "name": "python3",
      "display_name": "Python 3"
    },
    "language_info": {
      "name": "python"
    }
  },
  "cells": [
    {
      "cell_type": "markdown",
      "metadata": {
        "id": "view-in-github",
        "colab_type": "text"
      },
      "source": [
        "<a href=\"https://colab.research.google.com/github/KAMRUZZAMAN-RUSSEL/ML/blob/main/Question13.ipynb\" target=\"_parent\"><img src=\"https://colab.research.google.com/assets/colab-badge.svg\" alt=\"Open In Colab\"/></a>"
      ]
    },
    {
      "cell_type": "code",
      "execution_count": 1,
      "metadata": {
        "colab": {
          "base_uri": "https://localhost:8080/"
        },
        "id": "_lllxkWTCYqC",
        "outputId": "09682e9b-f18c-4b17-c743-2de48929d23c"
      },
      "outputs": [
        {
          "output_type": "stream",
          "name": "stdout",
          "text": [
            "Perceptron:\n",
            "  Precision: 0.833\n",
            "  Recall:    0.833\n",
            "\n",
            "Naive Bayes:\n",
            "  Precision: 0.833\n",
            "  Recall:    0.833\n"
          ]
        }
      ],
      "source": [
        "from sklearn.metrics import precision_score, recall_score\n",
        "\n",
        "# True labels (actual T1 values)\n",
        "y_true = [1, 0, 1, 0, 1, 1, 0, 1, 0, 1]\n",
        "\n",
        "# Perceptron model predictions\n",
        "y_pred_perceptron = [1, 0, 1, 1, 1, 0, 0, 1, 0, 1]\n",
        "\n",
        "# Naive Bayes model predictions\n",
        "y_pred_nb = [0, 0, 1, 1, 1, 1, 0, 1, 0, 1]\n",
        "\n",
        "# Calculate metrics for Perceptron\n",
        "precision_perceptron = precision_score(y_true, y_pred_perceptron)\n",
        "recall_perceptron = recall_score(y_true, y_pred_perceptron)\n",
        "\n",
        "# Calculate metrics for Naive Bayes\n",
        "precision_nb = precision_score(y_true, y_pred_nb)\n",
        "recall_nb = recall_score(y_true, y_pred_nb)\n",
        "\n",
        "# Print results\n",
        "print(\"Perceptron:\")\n",
        "print(f\"  Precision: {precision_perceptron:.3f}\")\n",
        "print(f\"  Recall:    {recall_perceptron:.3f}\")\n",
        "\n",
        "print(\"\\nNaive Bayes:\")\n",
        "print(f\"  Precision: {precision_nb:.3f}\")\n",
        "print(f\"  Recall:    {recall_nb:.3f}\")\n"
      ]
    }
  ]
}