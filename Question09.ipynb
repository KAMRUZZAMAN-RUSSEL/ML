{
  "nbformat": 4,
  "nbformat_minor": 0,
  "metadata": {
    "colab": {
      "provenance": [],
      "authorship_tag": "ABX9TyPwpJ7FEOtUK4EQtNAlMYA4",
      "include_colab_link": true
    },
    "kernelspec": {
      "name": "python3",
      "display_name": "Python 3"
    },
    "language_info": {
      "name": "python"
    }
  },
  "cells": [
    {
      "cell_type": "markdown",
      "metadata": {
        "id": "view-in-github",
        "colab_type": "text"
      },
      "source": [
        "<a href=\"https://colab.research.google.com/github/KAMRUZZAMAN-RUSSEL/ML/blob/main/Question09.ipynb\" target=\"_parent\"><img src=\"https://colab.research.google.com/assets/colab-badge.svg\" alt=\"Open In Colab\"/></a>"
      ]
    },
    {
      "cell_type": "code",
      "execution_count": null,
      "metadata": {
        "colab": {
          "base_uri": "https://localhost:8080/"
        },
        "id": "R9A6SlVXqzC4",
        "outputId": "31d28b81-1be7-4c32-de51-c84732e3b81b"
      },
      "outputs": [
        {
          "output_type": "stream",
          "name": "stdout",
          "text": [
            "Weighted sum (z): 0.4457\n",
            "Prediction (after sigmoid): 0.6096163853787591\n"
          ]
        }
      ],
      "source": [
        "# Perceptron forward pass for T1 using sigmoid activation\n",
        "import numpy as np\n",
        "\n",
        "def sigmoid(x):\n",
        "    return 1 / (1 + np.exp(-x))\n",
        "\n",
        "# Input (normalized Age and CreditScore for T1)\n",
        "x = np.array([0.375, 0.583])\n",
        "\n",
        "# Weights and bias (given)\n",
        "weights = np.array([0.3, 0.4])\n",
        "bias = 0.1\n",
        "\n",
        "# Forward pass\n",
        "z = np.dot(x, weights) + bias\n",
        "y_pred = sigmoid(z)\n",
        "\n",
        "print(\"Weighted sum (z):\", z)\n",
        "print(\"Prediction (after sigmoid):\", y_pred)\n"
      ]
    }
  ]
}