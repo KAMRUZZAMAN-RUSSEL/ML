{
  "nbformat": 4,
  "nbformat_minor": 0,
  "metadata": {
    "colab": {
      "provenance": [],
      "authorship_tag": "ABX9TyPCewEAmEEjW//KqT5Ri1Np",
      "include_colab_link": true
    },
    "kernelspec": {
      "name": "python3",
      "display_name": "Python 3"
    },
    "language_info": {
      "name": "python"
    }
  },
  "cells": [
    {
      "cell_type": "markdown",
      "metadata": {
        "id": "view-in-github",
        "colab_type": "text"
      },
      "source": [
        "<a href=\"https://colab.research.google.com/github/KAMRUZZAMAN-RUSSEL/ML/blob/main/Question17.ipynb\" target=\"_parent\"><img src=\"https://colab.research.google.com/assets/colab-badge.svg\" alt=\"Open In Colab\"/></a>"
      ]
    },
    {
      "cell_type": "code",
      "execution_count": 2,
      "metadata": {
        "colab": {
          "base_uri": "https://localhost:8080/"
        },
        "id": "9kVNeVX_lL2m",
        "outputId": "4cdb7303-4ac6-4b86-b2ce-79523f1bf25b"
      },
      "outputs": [
        {
          "output_type": "stream",
          "name": "stdout",
          "text": [
            "Normalized T1: [0.32       0.45454545]\n",
            "\n",
            "Distances to T1:\n",
            "    Age  CreditScore  RiskClass  DistanceToT1\n",
            "0   25          610          1      0.555888\n",
            "1   30          640          1      0.217848\n",
            "2   35          620          1      0.372332\n",
            "3   40          680          0      0.333853\n",
            "4   45          700          0      0.602189\n",
            "5   50          720          0      0.871734\n",
            "\n",
            "Top 3 Neighbors:\n",
            "    Age  CreditScore  RiskClass  DistanceToT1\n",
            "1   30          640          1      0.217848\n",
            "3   40          680          0      0.333853\n",
            "2   35          620          1      0.372332\n",
            "\n",
            "Predicted Class for T1 (k=3): 1\n"
          ]
        }
      ],
      "source": [
        "import numpy as np\n",
        "import pandas as pd\n",
        "from sklearn.preprocessing import MinMaxScaler\n",
        "from sklearn.metrics import pairwise_distances\n",
        "\n",
        "# Step 1: Sample dataset\n",
        "data = {\n",
        "    'Age': [25, 30, 35, 40, 45, 50],\n",
        "    'CreditScore': [610, 640, 620, 680, 700, 720],\n",
        "    'RiskClass': [1, 1, 1, 0, 0, 0]  # 1 = Low, 0 = High\n",
        "}\n",
        "df = pd.DataFrame(data)\n",
        "\n",
        "# Add test sample T1\n",
        "T1 = pd.DataFrame({'Age': [33], 'CreditScore': [660]})\n",
        "df_all = pd.concat([df[['Age', 'CreditScore']], T1], ignore_index=True)\n",
        "\n",
        "# Step 2: Normalize Age and CreditScore using MinMax\n",
        "scaler = MinMaxScaler()\n",
        "normalized = scaler.fit_transform(df_all)\n",
        "\n",
        "# Separate normalized training and T1\n",
        "X_train = normalized[:-1]\n",
        "X_test = normalized[-1].reshape(1, -1)\n",
        "\n",
        "# Step 3: Compute Euclidean distances\n",
        "distances = pairwise_distances(X_train, X_test).flatten()\n",
        "df['DistanceToT1'] = distances\n",
        "\n",
        "# Step 4: Find k=3 nearest neighbors\n",
        "k = 3\n",
        "top_k = df.nsmallest(k, 'DistanceToT1')\n",
        "predicted_class = top_k['RiskClass'].mode()[0]\n",
        "\n",
        "# Output results\n",
        "print(\"Normalized T1:\", X_test.flatten())\n",
        "print(\"\\nDistances to T1:\\n\", df[['Age', 'CreditScore', 'RiskClass', 'DistanceToT1']])\n",
        "print(f\"\\nTop {k} Neighbors:\\n\", top_k[['Age', 'CreditScore', 'RiskClass', 'DistanceToT1']])\n",
        "print(f\"\\nPredicted Class for T1 (k={k}):\", predicted_class)\n"
      ]
    }
  ]
}