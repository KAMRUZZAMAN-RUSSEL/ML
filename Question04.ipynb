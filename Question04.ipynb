{
  "nbformat": 4,
  "nbformat_minor": 0,
  "metadata": {
    "colab": {
      "provenance": [],
      "authorship_tag": "ABX9TyNSvfoOvSu73bA5OZSyZBYp",
      "include_colab_link": true
    },
    "kernelspec": {
      "name": "python3",
      "display_name": "Python 3"
    },
    "language_info": {
      "name": "python"
    }
  },
  "cells": [
    {
      "cell_type": "markdown",
      "metadata": {
        "id": "view-in-github",
        "colab_type": "text"
      },
      "source": [
        "<a href=\"https://colab.research.google.com/github/KAMRUZZAMAN-RUSSEL/ML/blob/main/Question04.ipynb\" target=\"_parent\"><img src=\"https://colab.research.google.com/assets/colab-badge.svg\" alt=\"Open In Colab\"/></a>"
      ]
    },
    {
      "cell_type": "code",
      "execution_count": 1,
      "metadata": {
        "colab": {
          "base_uri": "https://localhost:8080/"
        },
        "id": "5KS7gZifqzAh",
        "outputId": "fd84e4ac-9932-44a2-9a6a-7724e073b85e"
      },
      "outputs": [
        {
          "output_type": "stream",
          "name": "stdout",
          "text": [
            "Predicted Y values: [675 640 725 655 760 645 710 665]\n",
            "MSE Cost: 2564.0625\n"
          ]
        }
      ],
      "source": [
        "import numpy as np\n",
        "\n",
        "# Training data\n",
        "ages = np.array([35, 28, 45, 31, 52, 29, 42, 33])\n",
        "actual_y = np.array([720, 650, 750, 600, 780, 830, 710, 640])\n",
        "\n",
        "# Model parameters\n",
        "theta_0 = 500\n",
        "theta_1 = 5\n",
        "\n",
        "# Hypothesis function\n",
        "predicted_y = theta_0 + theta_1 * ages\n",
        "\n",
        "# Compute MSE cost\n",
        "m = len(ages)\n",
        "cost = (1 / (2 * m)) * np.sum((predicted_y - actual_y) ** 2)\n",
        "\n",
        "# Display results\n",
        "print(\"Predicted Y values:\", predicted_y)\n",
        "print(\"MSE Cost:\", cost)\n"
      ]
    }
  ]
}